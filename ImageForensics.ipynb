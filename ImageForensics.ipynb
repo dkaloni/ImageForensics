{
  "nbformat": 4,
  "nbformat_minor": 0,
  "metadata": {
    "colab": {
      "name": "ImageForensics.ipynb",
      "provenance": [],
      "authorship_tag": "ABX9TyPjKDR54+qsPxe/+r/dFoqu",
      "include_colab_link": true
    },
    "kernelspec": {
      "name": "python3",
      "display_name": "Python 3"
    }
  },
  "cells": [
    {
      "cell_type": "markdown",
      "metadata": {
        "id": "view-in-github",
        "colab_type": "text"
      },
      "source": [
        "<a href=\"https://colab.research.google.com/github/dkaloni/ImageForensics/blob/main/ImageForensics.ipynb\" target=\"_parent\"><img src=\"https://colab.research.google.com/assets/colab-badge.svg\" alt=\"Open In Colab\"/></a>"
      ]
    },
    {
      "cell_type": "markdown",
      "metadata": {
        "id": "UVkQIZ5gm1Os"
      },
      "source": [
        "**Utility Functions**"
      ]
    },
    {
      "cell_type": "code",
      "metadata": {
        "id": "FGTMn_x9m5vJ"
      },
      "source": [
        "import io\n",
        "import PIL\n",
        "import numpy as np\n",
        "\n",
        "import torch\n",
        "from torch import nn\n",
        "from torch.nn import functional as F\n",
        "\n",
        "def n_params(net):\n",
        "    \"\"\"Computes the number of trainable parametres of a nn.Module instance.\"\"\"\n",
        "    return sum(p.numel() for p in net.parameters() if p.requires_grad)\n",
        "\n",
        "def img_to_tensor(img):\n",
        "    \"\"\"\n",
        "    Turns a numpy image into a torch tensor\n",
        "    :param img: np.ndarray, shape (Y, X, C)\n",
        "    :output t: torch.tensor, shape (1, C, Y, X)\n",
        "    \"\"\"\n",
        "    t = torch.from_numpy(img.transpose(2, 0, 1)).unsqueeze(0)\n",
        "    return t\n",
        "\n",
        "\n",
        "def jpeg_compress(img, quality):\n",
        "    \"\"\"Applies JPEG compression to an image.\"\"\"\n",
        "    img = img.copy()\n",
        "    if img.max() <= 1.:\n",
        "        img *= 255\n",
        "    pimg = PIL.Image.fromarray(img.astype(np.uint8))\n",
        "    out = io.BytesIO()\n",
        "    pimg.save(out, format='JPEG', quality=quality)\n",
        "    out.seek(0)\n",
        "    result = np.array(PIL.Image.open(out)).astype(float)/255\n",
        "    return result\n"
      ],
      "execution_count": null,
      "outputs": []
    }
  ]
}